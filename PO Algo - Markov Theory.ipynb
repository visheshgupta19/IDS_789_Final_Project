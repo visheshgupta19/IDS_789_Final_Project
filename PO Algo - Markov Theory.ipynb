{
 "cells": [
  {
   "cell_type": "code",
   "execution_count": 8,
   "metadata": {
    "colab": {
     "base_uri": "https://localhost:8080/"
    },
    "id": "-7s87-mpvAnM",
    "outputId": "be264f9c-fd43-4e32-ce2d-46f055215e66"
   },
   "outputs": [
    {
     "name": "stdout",
     "output_type": "stream",
     "text": [
      "Collecting cvxpy\n",
      "  Downloading cvxpy-1.6.0-cp312-cp312-win_amd64.whl.metadata (9.4 kB)\n",
      "Requirement already satisfied: pandas in c:\\users\\asus\\miniconda3\\lib\\site-packages (2.2.2)\n",
      "Requirement already satisfied: numpy in c:\\users\\asus\\miniconda3\\lib\\site-packages (1.26.4)\n",
      "Collecting osqp>=0.6.2 (from cvxpy)\n",
      "  Downloading osqp-0.6.7.post3-cp312-cp312-win_amd64.whl.metadata (2.0 kB)\n",
      "Collecting clarabel>=0.5.0 (from cvxpy)\n",
      "  Downloading clarabel-0.9.0-cp37-abi3-win_amd64.whl.metadata (4.8 kB)\n",
      "Collecting scs>=3.2.4.post1 (from cvxpy)\n",
      "  Downloading scs-3.2.7-cp312-cp312-win_amd64.whl.metadata (2.1 kB)\n",
      "Requirement already satisfied: scipy>=1.1.0 in c:\\users\\asus\\miniconda3\\lib\\site-packages (from cvxpy) (1.13.1)\n",
      "Requirement already satisfied: python-dateutil>=2.8.2 in c:\\users\\asus\\miniconda3\\lib\\site-packages (from pandas) (2.9.0)\n",
      "Requirement already satisfied: pytz>=2020.1 in c:\\users\\asus\\miniconda3\\lib\\site-packages (from pandas) (2024.1)\n",
      "Requirement already satisfied: tzdata>=2022.7 in c:\\users\\asus\\miniconda3\\lib\\site-packages (from pandas) (2024.1)\n",
      "Collecting qdldl (from osqp>=0.6.2->cvxpy)\n",
      "  Downloading qdldl-0.1.7.post4-cp312-cp312-win_amd64.whl.metadata (1.8 kB)\n",
      "Requirement already satisfied: six>=1.5 in c:\\users\\asus\\miniconda3\\lib\\site-packages (from python-dateutil>=2.8.2->pandas) (1.16.0)\n",
      "Downloading cvxpy-1.6.0-cp312-cp312-win_amd64.whl (1.1 MB)\n",
      "   ---------------------------------------- 0.0/1.1 MB ? eta -:--:--\n",
      "   -------------------------------------- - 1.0/1.1 MB 5.0 MB/s eta 0:00:01\n",
      "   ---------------------------------------- 1.1/1.1 MB 4.4 MB/s eta 0:00:00\n",
      "Downloading clarabel-0.9.0-cp37-abi3-win_amd64.whl (736 kB)\n",
      "   ---------------------------------------- 0.0/736.4 kB ? eta -:--:--\n",
      "   ---------------------------------------- 736.4/736.4 kB 3.0 MB/s eta 0:00:00\n",
      "Downloading osqp-0.6.7.post3-cp312-cp312-win_amd64.whl (293 kB)\n",
      "Downloading scs-3.2.7-cp312-cp312-win_amd64.whl (8.4 MB)\n",
      "   ---------------------------------------- 0.0/8.4 MB ? eta -:--:--\n",
      "   ---- ----------------------------------- 1.0/8.4 MB 5.0 MB/s eta 0:00:02\n",
      "   -------- ------------------------------- 1.8/8.4 MB 4.4 MB/s eta 0:00:02\n",
      "   -------------- ------------------------- 3.1/8.4 MB 4.9 MB/s eta 0:00:02\n",
      "   ----------------------- ---------------- 5.0/8.4 MB 5.0 MB/s eta 0:00:01\n",
      "   ----------------------------- ---------- 6.3/8.4 MB 5.0 MB/s eta 0:00:01\n",
      "   ---------------------------------- ----- 7.3/8.4 MB 4.9 MB/s eta 0:00:01\n",
      "   ---------------------------------------  8.4/8.4 MB 5.0 MB/s eta 0:00:01\n",
      "   ---------------------------------------- 8.4/8.4 MB 4.5 MB/s eta 0:00:00\n",
      "Downloading qdldl-0.1.7.post4-cp312-cp312-win_amd64.whl (87 kB)\n",
      "Installing collected packages: scs, qdldl, clarabel, osqp, cvxpy\n",
      "Successfully installed clarabel-0.9.0 cvxpy-1.6.0 osqp-0.6.7.post3 qdldl-0.1.7.post4 scs-3.2.7\n"
     ]
    }
   ],
   "source": [
    "!pip install cvxpy pandas numpy\n"
   ]
  },
  {
   "cell_type": "code",
   "execution_count": 9,
   "metadata": {
    "id": "KehXdOA_vRYf"
   },
   "outputs": [],
   "source": [
    "import cvxpy as cp\n",
    "import numpy as np\n",
    "import pandas as pd"
   ]
  },
  {
   "cell_type": "code",
   "execution_count": 12,
   "metadata": {
    "colab": {
     "base_uri": "https://localhost:8080/",
     "height": 258
    },
    "id": "IQkDJroxwpOm",
    "outputId": "6c445130-c2f1-4ccd-b1ae-ebed60c18712"
   },
   "outputs": [
    {
     "data": {
      "text/html": [
       "<div>\n",
       "<style scoped>\n",
       "    .dataframe tbody tr th:only-of-type {\n",
       "        vertical-align: middle;\n",
       "    }\n",
       "\n",
       "    .dataframe tbody tr th {\n",
       "        vertical-align: top;\n",
       "    }\n",
       "\n",
       "    .dataframe thead th {\n",
       "        text-align: right;\n",
       "    }\n",
       "</style>\n",
       "<table border=\"1\" class=\"dataframe\">\n",
       "  <thead>\n",
       "    <tr style=\"text-align: right;\">\n",
       "      <th></th>\n",
       "      <th>Company Name</th>\n",
       "      <th>Industry</th>\n",
       "      <th>Beta Value</th>\n",
       "      <th>Grade</th>\n",
       "      <th>TSR</th>\n",
       "      <th>GradeWeight</th>\n",
       "    </tr>\n",
       "  </thead>\n",
       "  <tbody>\n",
       "    <tr>\n",
       "      <th>0</th>\n",
       "      <td>NextEra Energy (NEE)</td>\n",
       "      <td>Utilities</td>\n",
       "      <td>0.49</td>\n",
       "      <td>B</td>\n",
       "      <td>53.47</td>\n",
       "      <td>80</td>\n",
       "    </tr>\n",
       "    <tr>\n",
       "      <th>1</th>\n",
       "      <td>Duke Energy (DUK)</td>\n",
       "      <td>Utilities</td>\n",
       "      <td>0.38</td>\n",
       "      <td>C</td>\n",
       "      <td>57.51</td>\n",
       "      <td>70</td>\n",
       "    </tr>\n",
       "    <tr>\n",
       "      <th>2</th>\n",
       "      <td>Atmos Energy (ATO)</td>\n",
       "      <td>Utilities</td>\n",
       "      <td>0.50</td>\n",
       "      <td>B</td>\n",
       "      <td>54.13</td>\n",
       "      <td>80</td>\n",
       "    </tr>\n",
       "    <tr>\n",
       "      <th>3</th>\n",
       "      <td>Avangrid (AGR)</td>\n",
       "      <td>Utilities</td>\n",
       "      <td>0.34</td>\n",
       "      <td>A</td>\n",
       "      <td>-8.57</td>\n",
       "      <td>90</td>\n",
       "    </tr>\n",
       "    <tr>\n",
       "      <th>4</th>\n",
       "      <td>Otter Tail (OTTR)</td>\n",
       "      <td>Utilities</td>\n",
       "      <td>0.69</td>\n",
       "      <td>A</td>\n",
       "      <td>87.72</td>\n",
       "      <td>90</td>\n",
       "    </tr>\n",
       "  </tbody>\n",
       "</table>\n",
       "</div>"
      ],
      "text/plain": [
       "           Company Name   Industry  Beta Value Grade    TSR  GradeWeight\n",
       "0  NextEra Energy (NEE)  Utilities        0.49     B  53.47           80\n",
       "1     Duke Energy (DUK)  Utilities        0.38     C  57.51           70\n",
       "2    Atmos Energy (ATO)  Utilities        0.50     B  54.13           80\n",
       "3        Avangrid (AGR)  Utilities        0.34     A  -8.57           90\n",
       "4     Otter Tail (OTTR)  Utilities        0.69     A  87.72           90"
      ]
     },
     "execution_count": 12,
     "metadata": {},
     "output_type": "execute_result"
    }
   ],
   "source": [
    "# Change the URL to download the CSV directly\n",
    "url = \"Companies.xlsx\"\n",
    "\n",
    "# Read the CSV with specified options\n",
    "df = pd.read_excel(\n",
    "    url,\n",
    "    index_col=None,  # Set the first column as rownames\n",
    ")\n",
    "\n",
    "grade_weight = {\"A\": 90, \"B\": 80, \"C\": 70, \"D\": 60, \"E\": 50, \"F\": 40}\n",
    "df[\"GradeWeight\"] = df[\"Grade\"].map(grade_weight)\n",
    "\n",
    "df.head(5)"
   ]
  },
  {
   "cell_type": "code",
   "execution_count": null,
   "metadata": {
    "colab": {
     "base_uri": "https://localhost:8080/"
    },
    "id": "cG8kAklS1k-J",
    "outputId": "e67ea295-2056-4fc8-f69e-d26beb83a36f"
   },
   "outputs": [
    {
     "data": {
      "text/plain": [
       "Index(['Unnamed: 0', 'Unnamed: 1', 'Unnamed: 2', 'Unnamed: 3', 'Unnamed: 4',\n",
       "       'Unnamed: 5', 'Unnamed: 6', 'Unnamed: 7', 'Unnamed: 8', 'Unnamed: 9',\n",
       "       'Unnamed: 10', 'Unnamed: 11', 'Unnamed: 12', 'Unnamed: 13',\n",
       "       'Unnamed: 14', 'Unnamed: 15', 'Unnamed: 16', 'Unnamed: 17',\n",
       "       'Unnamed: 18', 'Unnamed: 19'],\n",
       "      dtype='object')"
      ]
     },
     "execution_count": 4,
     "metadata": {},
     "output_type": "execute_result"
    }
   ],
   "source": [
    "df.columns"
   ]
  },
  {
   "cell_type": "code",
   "execution_count": 14,
   "metadata": {
    "id": "Ov0hJSFLxxKy"
   },
   "outputs": [],
   "source": [
    "# Convert grades to weights for fundamental factors, returns, and beta\n",
    "grades = df[\"GradeWeight\"].values\n",
    "betas = df[\"Beta Value\"].values\n",
    "returns = df[\"TSR\"].values\n",
    "n_stocks = len(df)\n",
    "\n",
    "# Define optimization variables\n",
    "weights = cp.Variable(n_stocks)\n",
    "\n",
    "# Risk is defined by the portfolio beta\n",
    "portfolio_beta = cp.sum(cp.multiply(betas, weights))\n",
    "\n",
    "# Expected portfolio return\n",
    "portfolio_return = cp.sum(cp.multiply(returns, weights))\n",
    "\n",
    "portfolio_grades = cp.sum(cp.multiply(grades, weights))\n",
    "\n",
    "# Objective function: Minimize beta (risk) while maximizing returns\n",
    "# We'll use a weighted objective function that can be adjusted as needed\n",
    "objective = cp.Maximize(\n",
    "    0.3 * portfolio_return + 0.4 * portfolio_grades + 0.2 * portfolio_beta\n",
    ")\n",
    "\n",
    "# Constraints:\n",
    "constraints = [\n",
    "    cp.sum(weights) == 1,  # Total weights should sum to 1\n",
    "    weights >= 0,  # No shorting (long-only portfolio)\n",
    "]\n",
    "\n",
    "# Add industry diversity constraint, e.g., limit weights per industry if needed\n",
    "for industry in df[\"Industry\"].unique():\n",
    "    # Create a boolean mask for the industry\n",
    "    industry_mask = (df[\"Industry\"] == industry).values\n",
    "    # Apply the mask to weights\n",
    "    constraints.append(cp.sum(weights[industry_mask]) <= 0.4)  # Max 20% per industry\n",
    "\n",
    "for companys in df[\"Company Name\"].unique():\n",
    "    # Create a boolean mask for the industry\n",
    "    company_mask = (df[\"Company Name\"] == industry).values\n",
    "    # Apply the mask to weights\n",
    "    constraints.append(cp.sum(weights[company_mask]) <= 0.04)  # Max 4% per company"
   ]
  },
  {
   "cell_type": "code",
   "execution_count": 38,
   "metadata": {
    "colab": {
     "base_uri": "https://localhost:8080/"
    },
    "id": "6B5iDFisz2N8",
    "outputId": "828fbc47-6840-4a3a-cc98-a1594a006f42"
   },
   "outputs": [
    {
     "name": "stdout",
     "output_type": "stream",
     "text": [
      "Optimal weights for each stock:\n",
      "                                Company Name          Industry  Beta Value  \\\n",
      "20     UnitedHealth Group Incorporated (UNH)        Healthcare        0.59   \n",
      "43                                     GOOGL        Technology        1.08   \n",
      "19                      JPMorgan Chase (JPM)           Finance        1.10   \n",
      "47                                      SNOW        Technology        1.37   \n",
      "29                         Pfizer Inc. (PFE)        Healthcare        0.62   \n",
      "..                                       ...               ...         ...   \n",
      "45                                      AAPL        Technology        1.29   \n",
      "54                                       AVB       Real Estate        0.97   \n",
      "21                   Johnson & Johnson (JNJ)        Healthcare        0.52   \n",
      "42                                      META        Technology        1.26   \n",
      "74  COSTCO WHOLESALE CORPORATION (XNAS:COST)  Consumer Staples        0.79   \n",
      "\n",
      "   Grade     TSR  GradeWeight        weight  \n",
      "20     A  159.18           90  4.000000e-01  \n",
      "43     C  159.34           70  4.000000e-01  \n",
      "19     B  112.82           80  2.000000e-01  \n",
      "47     A  -47.52           90  7.424364e-10  \n",
      "29     B   -7.22           80  2.816214e-10  \n",
      "..   ...     ...          ...           ...  \n",
      "45     B  249.31           80 -6.273867e-11  \n",
      "54     B   27.21           80 -6.290422e-11  \n",
      "21     B   33.35           80 -6.298308e-11  \n",
      "42     A  184.85           90 -6.378852e-11  \n",
      "74     D   17.43           60 -6.390947e-11  \n",
      "\n",
      "[79 rows x 7 columns]\n",
      "0.8879999999472155\n",
      "149.97199984546234\n"
     ]
    }
   ],
   "source": [
    "# \"Industry\",\n",
    "\n",
    "\n",
    "# Formulate the problem\n",
    "problem = cp.Problem(objective, constraints)\n",
    "\n",
    "# Solve the problem\n",
    "problem.solve()\n",
    "\n",
    "# Display results\n",
    "print(\"Optimal weights for each stock:\")\n",
    "df[\"weight\"] = weights.value\n",
    "# print(df[[\"Industry\", \"weight\"]])\n",
    "\n",
    "df = df.sort_values(by=\"weight\", ascending=False)\n",
    "\n",
    "weighted_beta = (df[\"Beta Value\"] * df[\"weight\"]).sum()\n",
    "weighted_tsr = (df[\"TSR\"] * df[\"weight\"]).sum()\n",
    "print(df)\n",
    "print(weighted_beta)\n",
    "print(weighted_tsr)"
   ]
  }
 ],
 "metadata": {
  "colab": {
   "provenance": []
  },
  "kernelspec": {
   "display_name": "base",
   "language": "python",
   "name": "python3"
  },
  "language_info": {
   "codemirror_mode": {
    "name": "ipython",
    "version": 3
   },
   "file_extension": ".py",
   "mimetype": "text/x-python",
   "name": "python",
   "nbconvert_exporter": "python",
   "pygments_lexer": "ipython3",
   "version": "3.12.5"
  }
 },
 "nbformat": 4,
 "nbformat_minor": 0
}
