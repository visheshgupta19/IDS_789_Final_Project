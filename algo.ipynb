{
 "cells": [
  {
   "cell_type": "code",
   "execution_count": 7,
   "metadata": {},
   "outputs": [
    {
     "data": {
      "text/plain": [
       "\" \\n# Play with the seed if need be\\nnp.random.seed(42)\\nnum_stocks = 80\\nindustries = ['Tech', 'Healthcare', 'Finance', 'Energy', 'Consumer']\\n\\ndata = {\\n    'Stock Name': [f'Stock_{i+1}' for i in range(num_stocks)],\\n    'TSR': np.random.uniform(5, 15, num_stocks),  # TSR between 5% and 15%\\n    'Grade': np.random.uniform(50, 100, num_stocks),  # Grade between 50 and 100\\n    'Beta Value': np.random.uniform(0.5, 1.5, num_stocks),  # Beta between 0.5 and 1.5\\n    'Industry': np.random.choice(industries, num_stocks)  # Randomly assign industry\\n}\\n\\ndummy_data = pd.DataFrame(data)\\n\""
      ]
     },
     "execution_count": 7,
     "metadata": {},
     "output_type": "execute_result"
    }
   ],
   "source": [
    "import pandas as pd\n",
    "import numpy as np\n",
    "\n",
    "\"\"\" \n",
    "# Play with the seed if need be\n",
    "np.random.seed(42)\n",
    "num_stocks = 80\n",
    "industries = ['Tech', 'Healthcare', 'Finance', 'Energy', 'Consumer']\n",
    "\n",
    "data = {\n",
    "    'Stock Name': [f'Stock_{i+1}' for i in range(num_stocks)],\n",
    "    'TSR': np.random.uniform(5, 15, num_stocks),  # TSR between 5% and 15%\n",
    "    'Grade': np.random.uniform(50, 100, num_stocks),  # Grade between 50 and 100\n",
    "    'Beta Value': np.random.uniform(0.5, 1.5, num_stocks),  # Beta between 0.5 and 1.5\n",
    "    'Industry': np.random.choice(industries, num_stocks)  # Randomly assign industry\n",
    "}\n",
    "\n",
    "dummy_data = pd.DataFrame(data)\n",
    "\"\"\""
   ]
  },
  {
   "cell_type": "code",
   "execution_count": 8,
   "metadata": {},
   "outputs": [],
   "source": [
    "# load your data\n",
    "# something = pd.read_csv('something.csv')\n",
    "\n",
    "companies_selected = pd.read_excel(\"Companies.xlsx\")"
   ]
  },
  {
   "cell_type": "code",
   "execution_count": 9,
   "metadata": {},
   "outputs": [],
   "source": [
    "# since TSR is in % we will grade wight in % as well\n",
    "grade_weight = {\"A\": 90, \"B\": 80, \"C\": 70, \"D\": 60, \"E\": 50, \"F\": 40}\n",
    "companies_selected[\"GradeWeight\"] = companies_selected[\"Grade\"].map(grade_weight)"
   ]
  },
  {
   "cell_type": "code",
   "execution_count": 10,
   "metadata": {},
   "outputs": [],
   "source": [
    "def calculate_grade_score(data, x):\n",
    "    return (1 - x) * data[\"TSR\"] + x * data[\"GradeWeight\"]"
   ]
  },
  {
   "cell_type": "code",
   "execution_count": 11,
   "metadata": {},
   "outputs": [],
   "source": [
    "# default values set as: 16% for industry allocation and 4.5% mac allocation\n",
    "# beta value for potfolio should be below 1\n",
    "def monte_carlo_simulation(\n",
    "    data, max_industry_allocation=0.16, target_beta=1.0, iterations=100\n",
    "):\n",
    "\n",
    "    best_portfolio = None\n",
    "    best_portfolio_beta = float(\"inf\")\n",
    "\n",
    "    for _ in range(iterations):\n",
    "        # The weightage we are giving x will range from 0.55 to 0.7\n",
    "        # This will give us cases where our grade is not the main factor and TSR is which provides us with different scores on multiple iterations\n",
    "        x = np.random.uniform(0.55, 0.7)\n",
    "\n",
    "        # execute the function mention above\n",
    "        data[\"Grade Score\"] = data.apply(calculate_grade_score, axis=1, args=(x,))\n",
    "\n",
    "        # obtain a weight scross all the investments. Basically getting a ratio so values for the weights will be between 0 and 1\n",
    "        # basic normalisation\n",
    "        data[\"Weight\"] = data[\"Grade Score\"] / data[\"Grade Score\"].sum()\n",
    "\n",
    "        # Lets focus on each industry\n",
    "        # what is the current weight allocated to each industryxw\n",
    "        data[\"Industry Allocation\"] = data.groupby(\"Industry\")[\"Weight\"].transform(\n",
    "            \"sum\"\n",
    "        )\n",
    "        data[\"Allocation_by_restriction\"] = np.where(\n",
    "            data[\"Industry Allocation\"] > max_industry_allocation,\n",
    "            max_industry_allocation,\n",
    "            data[\"Industry Allocation\"],\n",
    "        )\n",
    "\n",
    "        data[\"Normalised Weight\"] = np.where(\n",
    "            data[\"Allocation_by_restriction\"] == 0.16,\n",
    "            (data[\"Weight\"] / data[\"Industry Allocation\"]) * 0.16,\n",
    "            data[\"Weight\"],\n",
    "        )\n",
    "\n",
    "        # NEED TO ADD WEIGHT FOR THE MAX ALLOCATION\n",
    "\n",
    "        # Calculate Portfolio Beta\n",
    "        portfolio_beta = (data[\"Beta Value\"] * data[\"Normalised Weight\"]).sum()\n",
    "\n",
    "        if portfolio_beta < target_beta:\n",
    "            best_portfolio = data[\n",
    "                [\n",
    "                    \"Company Name\",\n",
    "                    \"Industry\",\n",
    "                    \"Weight\",\n",
    "                    \"Normalised Weight\",\n",
    "                    \"Beta Value\",\n",
    "                ]\n",
    "            ]\n",
    "            best_portfolio_beta = portfolio_beta\n",
    "            break\n",
    "\n",
    "    return portfolio_beta, data"
   ]
  },
  {
   "cell_type": "code",
   "execution_count": 12,
   "metadata": {},
   "outputs": [],
   "source": [
    "final_beta, ideal_portfolio = monte_carlo_simulation(companies_selected)"
   ]
  },
  {
   "cell_type": "code",
   "execution_count": 13,
   "metadata": {},
   "outputs": [
    {
     "data": {
      "text/plain": [
       "0.5689451054135988"
      ]
     },
     "execution_count": 13,
     "metadata": {},
     "output_type": "execute_result"
    }
   ],
   "source": [
    "final_beta"
   ]
  },
  {
   "cell_type": "code",
   "execution_count": 14,
   "metadata": {},
   "outputs": [
    {
     "data": {
      "text/plain": [
       "0.5292756105485721"
      ]
     },
     "execution_count": 14,
     "metadata": {},
     "output_type": "execute_result"
    }
   ],
   "source": [
    "ideal_portfolio[\"Normalised Weight\"].sum()"
   ]
  },
  {
   "cell_type": "code",
   "execution_count": 15,
   "metadata": {},
   "outputs": [
    {
     "data": {
      "text/plain": [
       "Industry\n",
       "Consumer Staples    0.038519\n",
       "Energy              0.062353\n",
       "Finance             0.074946\n",
       "Healthcare          0.073293\n",
       "Industruals         0.034125\n",
       "Real Estate         0.042096\n",
       "Technology          0.160000\n",
       "Utilities           0.043943\n",
       "Name: Normalised Weight, dtype: float64"
      ]
     },
     "execution_count": 15,
     "metadata": {},
     "output_type": "execute_result"
    }
   ],
   "source": [
    "ideal_portfolio.groupby(\"Industry\")[\"Normalised Weight\"].sum()"
   ]
  },
  {
   "cell_type": "code",
   "execution_count": 16,
   "metadata": {},
   "outputs": [],
   "source": [
    "ideal_portfolio[\"final_weight\"] = (\n",
    "    ideal_portfolio[\"Normalised Weight\"] / ideal_portfolio[\"Normalised Weight\"].sum()\n",
    ") * 100"
   ]
  },
  {
   "cell_type": "code",
   "execution_count": 17,
   "metadata": {},
   "outputs": [
    {
     "data": {
      "text/plain": [
       "True"
      ]
     },
     "execution_count": 17,
     "metadata": {},
     "output_type": "execute_result"
    }
   ],
   "source": [
    "round(ideal_portfolio[\"final_weight\"].sum(), 2) == 100.00"
   ]
  },
  {
   "cell_type": "code",
   "execution_count": 18,
   "metadata": {},
   "outputs": [
    {
     "data": {
      "text/html": [
       "<div>\n",
       "<style scoped>\n",
       "    .dataframe tbody tr th:only-of-type {\n",
       "        vertical-align: middle;\n",
       "    }\n",
       "\n",
       "    .dataframe tbody tr th {\n",
       "        vertical-align: top;\n",
       "    }\n",
       "\n",
       "    .dataframe thead th {\n",
       "        text-align: right;\n",
       "    }\n",
       "</style>\n",
       "<table border=\"1\" class=\"dataframe\">\n",
       "  <thead>\n",
       "    <tr style=\"text-align: right;\">\n",
       "      <th></th>\n",
       "      <th>Company Name</th>\n",
       "      <th>Industry</th>\n",
       "      <th>Beta Value</th>\n",
       "      <th>Grade</th>\n",
       "      <th>TSR</th>\n",
       "      <th>GradeWeight</th>\n",
       "      <th>Grade Score</th>\n",
       "      <th>Weight</th>\n",
       "      <th>Industry Allocation</th>\n",
       "      <th>Allocation_by_restriction</th>\n",
       "      <th>Normalised Weight</th>\n",
       "      <th>final_weight</th>\n",
       "    </tr>\n",
       "  </thead>\n",
       "  <tbody>\n",
       "    <tr>\n",
       "      <th>0</th>\n",
       "      <td>NextEra Energy (NEE)</td>\n",
       "      <td>Utilities</td>\n",
       "      <td>0.49</td>\n",
       "      <td>B</td>\n",
       "      <td>53.47</td>\n",
       "      <td>80</td>\n",
       "      <td>69.467292</td>\n",
       "      <td>0.004839</td>\n",
       "      <td>0.043943</td>\n",
       "      <td>0.043943</td>\n",
       "      <td>0.004839</td>\n",
       "      <td>0.914316</td>\n",
       "    </tr>\n",
       "    <tr>\n",
       "      <th>1</th>\n",
       "      <td>Duke Energy (DUK)</td>\n",
       "      <td>Utilities</td>\n",
       "      <td>0.38</td>\n",
       "      <td>C</td>\n",
       "      <td>57.51</td>\n",
       "      <td>70</td>\n",
       "      <td>65.041330</td>\n",
       "      <td>0.004531</td>\n",
       "      <td>0.043943</td>\n",
       "      <td>0.043943</td>\n",
       "      <td>0.004531</td>\n",
       "      <td>0.856062</td>\n",
       "    </tr>\n",
       "    <tr>\n",
       "      <th>2</th>\n",
       "      <td>Atmos Energy (ATO)</td>\n",
       "      <td>Utilities</td>\n",
       "      <td>0.50</td>\n",
       "      <td>B</td>\n",
       "      <td>54.13</td>\n",
       "      <td>80</td>\n",
       "      <td>69.729320</td>\n",
       "      <td>0.004858</td>\n",
       "      <td>0.043943</td>\n",
       "      <td>0.043943</td>\n",
       "      <td>0.004858</td>\n",
       "      <td>0.917765</td>\n",
       "    </tr>\n",
       "    <tr>\n",
       "      <th>3</th>\n",
       "      <td>Avangrid (AGR)</td>\n",
       "      <td>Utilities</td>\n",
       "      <td>0.34</td>\n",
       "      <td>A</td>\n",
       "      <td>-8.57</td>\n",
       "      <td>90</td>\n",
       "      <td>50.866603</td>\n",
       "      <td>0.003543</td>\n",
       "      <td>0.043943</td>\n",
       "      <td>0.043943</td>\n",
       "      <td>0.003543</td>\n",
       "      <td>0.669497</td>\n",
       "    </tr>\n",
       "    <tr>\n",
       "      <th>4</th>\n",
       "      <td>Otter Tail (OTTR)</td>\n",
       "      <td>Utilities</td>\n",
       "      <td>0.69</td>\n",
       "      <td>A</td>\n",
       "      <td>87.72</td>\n",
       "      <td>90</td>\n",
       "      <td>89.094814</td>\n",
       "      <td>0.006207</td>\n",
       "      <td>0.043943</td>\n",
       "      <td>0.043943</td>\n",
       "      <td>0.006207</td>\n",
       "      <td>1.172650</td>\n",
       "    </tr>\n",
       "    <tr>\n",
       "      <th>...</th>\n",
       "      <td>...</td>\n",
       "      <td>...</td>\n",
       "      <td>...</td>\n",
       "      <td>...</td>\n",
       "      <td>...</td>\n",
       "      <td>...</td>\n",
       "      <td>...</td>\n",
       "      <td>...</td>\n",
       "      <td>...</td>\n",
       "      <td>...</td>\n",
       "      <td>...</td>\n",
       "      <td>...</td>\n",
       "    </tr>\n",
       "    <tr>\n",
       "      <th>74</th>\n",
       "      <td>COSTCO WHOLESALE CORPORATION (XNAS:COST)</td>\n",
       "      <td>Consumer Staples</td>\n",
       "      <td>0.79</td>\n",
       "      <td>D</td>\n",
       "      <td>17.43</td>\n",
       "      <td>60</td>\n",
       "      <td>43.099232</td>\n",
       "      <td>0.003002</td>\n",
       "      <td>0.038519</td>\n",
       "      <td>0.038519</td>\n",
       "      <td>0.003002</td>\n",
       "      <td>0.567264</td>\n",
       "    </tr>\n",
       "    <tr>\n",
       "      <th>75</th>\n",
       "      <td>DOLLAR GENERAL CORPORATION (XNYS:DG)</td>\n",
       "      <td>Consumer Staples</td>\n",
       "      <td>0.45</td>\n",
       "      <td>B</td>\n",
       "      <td>14.09</td>\n",
       "      <td>80</td>\n",
       "      <td>53.832990</td>\n",
       "      <td>0.003750</td>\n",
       "      <td>0.038519</td>\n",
       "      <td>0.038519</td>\n",
       "      <td>0.003750</td>\n",
       "      <td>0.708540</td>\n",
       "    </tr>\n",
       "    <tr>\n",
       "      <th>76</th>\n",
       "      <td>COLGATE-PALMOLIVE COMPANY (XNYS:CL)</td>\n",
       "      <td>Consumer Staples</td>\n",
       "      <td>0.41</td>\n",
       "      <td>A</td>\n",
       "      <td>15.40</td>\n",
       "      <td>90</td>\n",
       "      <td>60.382962</td>\n",
       "      <td>0.004206</td>\n",
       "      <td>0.038519</td>\n",
       "      <td>0.038519</td>\n",
       "      <td>0.004206</td>\n",
       "      <td>0.794750</td>\n",
       "    </tr>\n",
       "    <tr>\n",
       "      <th>77</th>\n",
       "      <td>THE HERSHEY COMPANY (XNYS:HSY)</td>\n",
       "      <td>Consumer Staples</td>\n",
       "      <td>0.37</td>\n",
       "      <td>B</td>\n",
       "      <td>12.95</td>\n",
       "      <td>80</td>\n",
       "      <td>53.380397</td>\n",
       "      <td>0.003719</td>\n",
       "      <td>0.038519</td>\n",
       "      <td>0.038519</td>\n",
       "      <td>0.003719</td>\n",
       "      <td>0.702583</td>\n",
       "    </tr>\n",
       "    <tr>\n",
       "      <th>78</th>\n",
       "      <td>UNILEVER PLC (XBUE:UL)</td>\n",
       "      <td>Consumer Staples</td>\n",
       "      <td>0.23</td>\n",
       "      <td>B</td>\n",
       "      <td>12.83</td>\n",
       "      <td>80</td>\n",
       "      <td>53.332756</td>\n",
       "      <td>0.003715</td>\n",
       "      <td>0.038519</td>\n",
       "      <td>0.038519</td>\n",
       "      <td>0.003715</td>\n",
       "      <td>0.701956</td>\n",
       "    </tr>\n",
       "  </tbody>\n",
       "</table>\n",
       "<p>79 rows × 12 columns</p>\n",
       "</div>"
      ],
      "text/plain": [
       "                                Company Name          Industry  Beta Value  \\\n",
       "0                       NextEra Energy (NEE)         Utilities        0.49   \n",
       "1                          Duke Energy (DUK)         Utilities        0.38   \n",
       "2                         Atmos Energy (ATO)         Utilities        0.50   \n",
       "3                             Avangrid (AGR)         Utilities        0.34   \n",
       "4                          Otter Tail (OTTR)         Utilities        0.69   \n",
       "..                                       ...               ...         ...   \n",
       "74  COSTCO WHOLESALE CORPORATION (XNAS:COST)  Consumer Staples        0.79   \n",
       "75      DOLLAR GENERAL CORPORATION (XNYS:DG)  Consumer Staples        0.45   \n",
       "76       COLGATE-PALMOLIVE COMPANY (XNYS:CL)  Consumer Staples        0.41   \n",
       "77            THE HERSHEY COMPANY (XNYS:HSY)  Consumer Staples        0.37   \n",
       "78                    UNILEVER PLC (XBUE:UL)  Consumer Staples        0.23   \n",
       "\n",
       "   Grade    TSR  GradeWeight  Grade Score    Weight  Industry Allocation  \\\n",
       "0      B  53.47           80    69.467292  0.004839             0.043943   \n",
       "1      C  57.51           70    65.041330  0.004531             0.043943   \n",
       "2      B  54.13           80    69.729320  0.004858             0.043943   \n",
       "3      A  -8.57           90    50.866603  0.003543             0.043943   \n",
       "4      A  87.72           90    89.094814  0.006207             0.043943   \n",
       "..   ...    ...          ...          ...       ...                  ...   \n",
       "74     D  17.43           60    43.099232  0.003002             0.038519   \n",
       "75     B  14.09           80    53.832990  0.003750             0.038519   \n",
       "76     A  15.40           90    60.382962  0.004206             0.038519   \n",
       "77     B  12.95           80    53.380397  0.003719             0.038519   \n",
       "78     B  12.83           80    53.332756  0.003715             0.038519   \n",
       "\n",
       "    Allocation_by_restriction  Normalised Weight  final_weight  \n",
       "0                    0.043943           0.004839      0.914316  \n",
       "1                    0.043943           0.004531      0.856062  \n",
       "2                    0.043943           0.004858      0.917765  \n",
       "3                    0.043943           0.003543      0.669497  \n",
       "4                    0.043943           0.006207      1.172650  \n",
       "..                        ...                ...           ...  \n",
       "74                   0.038519           0.003002      0.567264  \n",
       "75                   0.038519           0.003750      0.708540  \n",
       "76                   0.038519           0.004206      0.794750  \n",
       "77                   0.038519           0.003719      0.702583  \n",
       "78                   0.038519           0.003715      0.701956  \n",
       "\n",
       "[79 rows x 12 columns]"
      ]
     },
     "execution_count": 18,
     "metadata": {},
     "output_type": "execute_result"
    }
   ],
   "source": [
    "ideal_portfolio"
   ]
  }
 ],
 "metadata": {
  "kernelspec": {
   "display_name": "base",
   "language": "python",
   "name": "python3"
  },
  "language_info": {
   "codemirror_mode": {
    "name": "ipython",
    "version": 3
   },
   "file_extension": ".py",
   "mimetype": "text/x-python",
   "name": "python",
   "nbconvert_exporter": "python",
   "pygments_lexer": "ipython3",
   "version": "3.12.5"
  }
 },
 "nbformat": 4,
 "nbformat_minor": 2
}
